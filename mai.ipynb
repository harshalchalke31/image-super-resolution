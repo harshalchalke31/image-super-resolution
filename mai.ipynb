{
 "cells": [
  {
   "cell_type": "markdown",
   "metadata": {},
   "source": [
    "## Dependencies"
   ]
  },
  {
   "cell_type": "code",
   "execution_count": 13,
   "metadata": {},
   "outputs": [
    {
     "name": "stdout",
     "output_type": "stream",
     "text": [
      "c:\\Projects\\python\\image-video-super-resolution\\ESRGAN\\models\\RRDB_ESRGAN_x4.pth\n"
     ]
    }
   ],
   "source": [
    "import os.path as osp\n",
    "import glob\n",
    "import cv2\n",
    "import numpy as np\n",
    "import torch\n",
    "import ESRGAN.RRDBNet_arch as arch # Make sure you clone the ESRGAN repository\n",
    "import os\n",
    "from tkinter import Tk, filedialog\n",
    "import matplotlib.pyplot as plt\n",
    "\n",
    "\n",
    "model_path = os.path.join(os.getcwd(),'ESRGAN','models','RRDB_ESRGAN_x4.pth') # change this if incorrect\n",
    "print(model_path)\n"
   ]
  },
  {
   "cell_type": "markdown",
   "metadata": {},
   "source": [
    "## Device setup"
   ]
  },
  {
   "cell_type": "code",
   "execution_count": 14,
   "metadata": {},
   "outputs": [
    {
     "name": "stdout",
     "output_type": "stream",
     "text": [
      "Using Device: cuda \n",
      "Current GPU: NVIDIA GeForce RTX 4060 Laptop GPU \n",
      "Cuda version: 11.8 \n",
      "cuDNN available: True \n",
      "cuDNN version: 90100 \n",
      "Allocated memory: 0 bytes \n",
      "Cached memory: 0 bytes\n"
     ]
    }
   ],
   "source": [
    "if torch.cuda.is_available():    \n",
    "    device = torch.device(\"cuda\")\n",
    "    current_device= torch.cuda.current_device()\n",
    "    # Limit memory usage to 80%\n",
    "    torch.cuda.set_per_process_memory_fraction(0.8,device=current_device)\n",
    "    # For optimized memory utilization during tensor operations\n",
    "    torch.backends.cudnn.benchmark = True\n",
    "    print(f\"Using Device: {device}\",\n",
    "          f\"\\nCurrent GPU: {torch.cuda.get_device_name(current_device)}\",\n",
    "          f\"\\nCuda version: {torch.version.cuda}\",\n",
    "          f\"\\ncuDNN available: {torch.backends.cudnn.is_available()}\",\n",
    "          f\"\\ncuDNN version: {torch.backends.cudnn.version()}\",\n",
    "          f\"\\nAllocated memory: {torch.cuda.memory_allocated()} bytes\",\n",
    "          f\"\\nCached memory: {torch.cuda.memory_reserved()} bytes\")\n",
    "else:\n",
    "    device = torch.device(\"cpu\")\n",
    "    print(f\"Using Device: {device}\")"
   ]
  },
  {
   "cell_type": "code",
   "execution_count": 15,
   "metadata": {},
   "outputs": [
    {
     "name": "stderr",
     "output_type": "stream",
     "text": [
      "C:\\Users\\harsh\\AppData\\Local\\Temp\\ipykernel_9116\\3631384658.py:3: FutureWarning: You are using `torch.load` with `weights_only=False` (the current default value), which uses the default pickle module implicitly. It is possible to construct malicious pickle data which will execute arbitrary code during unpickling (See https://github.com/pytorch/pytorch/blob/main/SECURITY.md#untrusted-models for more details). In a future release, the default value for `weights_only` will be flipped to `True`. This limits the functions that could be executed during unpickling. Arbitrary objects will no longer be allowed to be loaded via this mode unless they are explicitly allowlisted by the user via `torch.serialization.add_safe_globals`. We recommend you start setting `weights_only=True` for any use case where you don't have full control of the loaded file. Please open an issue on GitHub for any issues related to this experimental feature.\n",
      "  model.load_state_dict(torch.load(model_path),strict=True)\n"
     ]
    }
   ],
   "source": [
    "# load the model\n",
    "model = arch.RRDBNet(in_nc=3,out_nc=3, nf=64,nb=23,gc=32)\n",
    "model.load_state_dict(torch.load(model_path),strict=True)\n",
    "model.eval()\n",
    "model = model.to(device=device)"
   ]
  },
  {
   "cell_type": "markdown",
   "metadata": {},
   "source": [
    "## Main"
   ]
  },
  {
   "cell_type": "code",
   "execution_count": null,
   "metadata": {},
   "outputs": [],
   "source": []
  },
  {
   "cell_type": "code",
   "execution_count": null,
   "metadata": {},
   "outputs": [],
   "source": [
    "test_img_folder = 'LR/*'\n",
    "\n",
    "model = arch.RRDBNet(3, 3, 64, 23, gc=32)\n",
    "model.load_state_dict(torch.load(model_path), strict=True)\n",
    "model.eval()\n",
    "model = model.to(device)\n",
    "\n",
    "print('Model path {:s}. \\nTesting...'.format(model_path))\n",
    "\n",
    "idx = 0\n",
    "for path in glob.glob(test_img_folder):\n",
    "    idx += 1\n",
    "    base = osp.splitext(osp.basename(path))[0]\n",
    "    print(idx, base)\n",
    "    # read images\n",
    "    img = cv2.imread(path, cv2.IMREAD_COLOR)\n",
    "    img = img * 1.0 / 255\n",
    "    img = torch.from_numpy(np.transpose(img[:, :, [2, 1, 0]], (2, 0, 1))).float()\n",
    "    img_LR = img.unsqueeze(0)\n",
    "    img_LR = img_LR.to(device)\n",
    "\n",
    "    with torch.no_grad():\n",
    "        output = model(img_LR).data.squeeze().float().cpu().clamp_(0, 1).numpy()\n",
    "    output = np.transpose(output[[2, 1, 0], :, :], (1, 2, 0))\n",
    "    output = (output * 255.0).round()\n",
    "    cv2.imwrite('results/{:s}_rlt.png'.format(base), output)\n"
   ]
  }
 ],
 "metadata": {
  "kernelspec": {
   "display_name": "mainenv",
   "language": "python",
   "name": "python3"
  },
  "language_info": {
   "codemirror_mode": {
    "name": "ipython",
    "version": 3
   },
   "file_extension": ".py",
   "mimetype": "text/x-python",
   "name": "python",
   "nbconvert_exporter": "python",
   "pygments_lexer": "ipython3",
   "version": "3.11.0"
  }
 },
 "nbformat": 4,
 "nbformat_minor": 2
}
